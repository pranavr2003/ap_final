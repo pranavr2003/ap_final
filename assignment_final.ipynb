{
 "cells": [
  {
   "cell_type": "code",
   "execution_count": 1,
   "metadata": {},
   "outputs": [
    {
     "name": "stdout",
     "output_type": "stream",
     "text": [
      "True\n"
     ]
    }
   ],
   "source": [
    "def checkPalindrome(string):\n",
    "    return string == string[::-1]\n",
    "\n",
    "result = checkPalindrome(\"malayalam\")\n",
    "print(result)"
   ]
  },
  {
   "cell_type": "code",
   "execution_count": 2,
   "metadata": {},
   "outputs": [],
   "source": [
    "def minIndexFirstString(str1, str2):\n",
    "    indices = [i for i, char in enumerate(str1) if char in str2]\n",
    "    return max(indices, default=-1)"
   ]
  },
  {
   "cell_type": "code",
   "execution_count": 3,
   "metadata": {},
   "outputs": [],
   "source": [
    "def firstLetters(string):\n",
    "    words = string.split()\n",
    "    return ''.join(word[0] for word in words)"
   ]
  },
  {
   "cell_type": "code",
   "execution_count": 5,
   "metadata": {},
   "outputs": [
    {
     "data": {
      "text/plain": [
       "'AbCdEfG'"
      ]
     },
     "execution_count": 5,
     "metadata": {},
     "output_type": "execute_result"
    }
   ],
   "source": [
    "class UpperCaseException(Exception):\n",
    "    pass\n",
    "\n",
    "def evenIndexCapital(s):\n",
    "    for c in s:\n",
    "        if c.isupper():\n",
    "            raise UpperCaseException(\"Uppercase letters detected\")\n",
    "    \n",
    "    result = []\n",
    "    for i, c in enumerate(s):\n",
    "        if i % 2 == 0:\n",
    "            result.append(c.upper())\n",
    "        else:\n",
    "            result.append(c)\n",
    "    return ''.join(result)\n",
    "\n",
    "evenIndexCapital('abcdefg')\n"
   ]
  },
  {
   "cell_type": "code",
   "execution_count": 6,
   "metadata": {},
   "outputs": [],
   "source": [
    "def shift(s, ccount=0, acount=0):\n",
    "    if not (isinstance(ccount, int) and isinstance(acount, int)) or ccount < 0 or acount < 0:\n",
    "        raise ValueError(\"Rotation counts must be non-negative integers.\")\n",
    "    \n",
    "    n = len(s)\n",
    "    acount %= n\n",
    "    ccount %= n\n",
    "    \n",
    "    shifted = s[acount:] + s[:acount]\n",
    "    \n",
    "    if ccount > 0:\n",
    "        shifted = shifted[-ccount:] + shifted[:-ccount]\n",
    "    \n",
    "    return shifted"
   ]
  },
  {
   "cell_type": "code",
   "execution_count": 7,
   "metadata": {},
   "outputs": [],
   "source": [
    "def distChar(string1, string2):\n",
    "    return ''.join(sorted(set(string1) ^ set(string2)))"
   ]
  },
  {
   "cell_type": "code",
   "execution_count": 8,
   "metadata": {},
   "outputs": [],
   "source": [
    "class InvalidInputException(Exception):\n",
    "    pass\n",
    "\n",
    "def change(s):\n",
    "    if any(c not in \"RG\" for c in s):\n",
    "        raise InvalidInputException(\"Input must contain only 'R' and 'G'.\")\n",
    "    \n",
    "    r_count, g_count = s.count('R'), s.count('G')\n",
    "    return min(r_count, g_count)\n"
   ]
  },
  {
   "cell_type": "code",
   "execution_count": 9,
   "metadata": {},
   "outputs": [],
   "source": [
    "def delVowels(s):\n",
    "    vowels = set(\"aeiouAEIOU\")\n",
    "    return ''.join(c for c in s if c not in vowels)"
   ]
  },
  {
   "cell_type": "code",
   "execution_count": 10,
   "metadata": {},
   "outputs": [],
   "source": [
    "def moveDups(s):\n",
    "    seen = set()\n",
    "    dups = []\n",
    "    result = []\n",
    "\n",
    "    for c in s:\n",
    "        if c in seen:\n",
    "            dups.append(c)\n",
    "        else:\n",
    "            seen.add(c)\n",
    "            result.append(c)\n",
    "    \n",
    "    return ''.join(result) + ('_' + ''.join(dups) if dups else '')\n"
   ]
  },
  {
   "cell_type": "code",
   "execution_count": 11,
   "metadata": {},
   "outputs": [],
   "source": [
    "def separate(s):\n",
    "    groups = []\n",
    "    temp = s[0]\n",
    "    \n",
    "    for i in range(1, len(s)):\n",
    "        if s[i] == s[i - 1]:\n",
    "            temp += s[i]\n",
    "        else:\n",
    "            groups.append(temp)\n",
    "            temp = s[i]\n",
    "    \n",
    "    groups.append(temp)  # add the lastt group\n",
    "    return groups\n"
   ]
  },
  {
   "cell_type": "code",
   "execution_count": 12,
   "metadata": {},
   "outputs": [],
   "source": [
    "def minOp(str1, str2):\n",
    "    m, n = len(str1), len(str2)\n",
    "    dp = [[0] * (n + 1) for _ in range(m + 1)]\n",
    "\n",
    "    for i in range(1, m + 1):\n",
    "        for j in range(1, n + 1):\n",
    "            if str1[i - 1] == str2[j - 1]:\n",
    "                dp[i][j] = dp[i - 1][j - 1]\n",
    "            else:\n",
    "                dp[i][j] = 1 + min(dp[i - 1][j], dp[i][j - 1], dp[i - 1][j - 1])\n",
    "\n",
    "    for j in range(1, n + 1):  # frist row update\n",
    "        dp[0][j] = j\n",
    "    for i in range(1, m + 1):  # first col update\n",
    "        dp[i][0] = i\n",
    "\n",
    "    return dp[m][n]\n"
   ]
  },
  {
   "cell_type": "code",
   "execution_count": 14,
   "metadata": {},
   "outputs": [],
   "source": [
    "class InvalidRollException(Exception):\n",
    "    pass\n",
    "\n",
    "def fee(base_fee, roll_no):\n",
    "    if len(roll_no) != 7 or roll_no[:2] not in {'DS', 'CS', 'EE', 'ME'} or roll_no[4] not in {'1', '2'}:\n",
    "        raise InvalidRollException(\"Invalid roll number.\")\n",
    "    \n",
    "    year = int(roll_no[2:4])\n",
    "    program = 4 if roll_no[4] == '1' else 2\n",
    "    \n",
    "    total_fee = sum(base_fee * (1.1 ** i) for i in range(program))\n",
    "    \n",
    "    return int(total_fee)\n"
   ]
  },
  {
   "cell_type": "code",
   "execution_count": 15,
   "metadata": {},
   "outputs": [],
   "source": [
    "from collections import Counter\n",
    "\n",
    "def reduce(s, k):\n",
    "    freq = Counter(s)\n",
    "    \n",
    "    freq_items = sorted(freq.items(), key=lambda item: item[1], reverse=True)\n",
    "    \n",
    "    for _ in range(k):\n",
    "        char, count = freq_items[0]\n",
    "        freq_items[0] = (char, count - 1)\n",
    "        \n",
    "        freq_items.sort(key=lambda item: item[1], reverse=True)\n",
    "    \n",
    "    if all(count == freq_items[0][1] for _, count in freq_items):\n",
    "        return ''.join([char * count for char, count in sorted(freq_items)])\n",
    "    \n",
    "    return \"\"\n"
   ]
  },
  {
   "cell_type": "code",
   "execution_count": 16,
   "metadata": {},
   "outputs": [],
   "source": [
    "def is_rotation(s1, s2):\n",
    "    return len(s1) == len(s2) and s1 in (s2 + s2)\n",
    "\n",
    "def equivalent(str1, str2):\n",
    "    longest = \"\"\n",
    "    len_str1, len_str2 = len(str1), len(str2)\n",
    "\n",
    "    for i in range(len_str1):\n",
    "        for j in range(i + 1, len_str1 + 1):\n",
    "            sub = str1[i:j]\n",
    "\n",
    "            for k in range(len_str2):\n",
    "                for l in range(k + 1, len_str2 + 1):\n",
    "                    if is_rotation(sub, str2[k:l]):\n",
    "                        if len(sub) > len(longest) or (len(sub) == len(longest) and sub < longest):\n",
    "                            longest = sub\n",
    "                            \n",
    "    return longest if longest else \"a\"\n"
   ]
  },
  {
   "cell_type": "code",
   "execution_count": 17,
   "metadata": {},
   "outputs": [],
   "source": [
    "def subPali(s):\n",
    "    n = len(s)\n",
    "    longest = 1\n",
    "\n",
    "    for i in range(n):\n",
    "        left, right = i, i\n",
    "        while left >= 0 and right < n and s[left] == s[right]:\n",
    "            longest = max(longest, right - left + 1)\n",
    "            left -= 1\n",
    "            right += 1\n",
    "        \n",
    "        left, right = i, i + 1\n",
    "        while left >= 0 and right < n and s[left] == s[right]:\n",
    "            longest = max(longest, right - left + 1)\n",
    "            left -= 1\n",
    "            right += 1\n",
    "\n",
    "    return longest\n"
   ]
  },
  {
   "cell_type": "code",
   "execution_count": 18,
   "metadata": {},
   "outputs": [],
   "source": [
    "def extractDup(lst):\n",
    "    seen = set()\n",
    "    dups = set()\n",
    "    for num in lst:\n",
    "        if num in seen:\n",
    "            dups.add(num)\n",
    "        else:\n",
    "            seen.add(num)\n",
    "    return sorted(dups)\n"
   ]
  },
  {
   "cell_type": "code",
   "execution_count": 19,
   "metadata": {},
   "outputs": [],
   "source": [
    "def listOps(lst):\n",
    "    print(\"Fourth item:\", lst[3] if len(lst) >= 4 else \"List too short\")\n",
    "    print(\"All items except first two:\", lst[2:])\n",
    "    print(\"Reverse list:\", lst[::-1])\n",
    "    print(\"Sum of elements:\", sum(lst))\n",
    "    print(f\"Max: {max(lst)}, Min: {min(lst)}\")\n",
    "    print(\"First zero index:\", lst.index(0) if 0 in lst else -1)\n",
    "    print(\"Ascending order:\", sorted(lst))\n",
    "    print(\"Descending order:\", sorted(lst, reverse=True))"
   ]
  },
  {
   "cell_type": "code",
   "execution_count": 20,
   "metadata": {},
   "outputs": [],
   "source": [
    "def delDup(lst):\n",
    "    return list(dict.fromkeys(lst))"
   ]
  },
  {
   "cell_type": "code",
   "execution_count": 22,
   "metadata": {},
   "outputs": [],
   "source": [
    "def weave(lst1, lst2):\n",
    "    if len(lst1) != len(lst2):\n",
    "        raise LengthMismatchException(\"length of lists should be equal\")\n",
    "    return [item for pair in zip(lst1, lst2) for item in pair]"
   ]
  },
  {
   "cell_type": "code",
   "execution_count": 23,
   "metadata": {},
   "outputs": [],
   "source": [
    "def oddCollatz(n):\n",
    "    seq = []\n",
    "    while n != 1:\n",
    "        if n % 2 == 1:\n",
    "            seq.append(n)\n",
    "        n = (3 * n + 1) if n % 2 else n // 2\n",
    "    seq.append(1)\n",
    "    return seq"
   ]
  },
  {
   "cell_type": "code",
   "execution_count": 24,
   "metadata": {},
   "outputs": [],
   "source": [
    "def moveZeros(lst):\n",
    "    non_zeros = [x for x in lst if x != 0]\n",
    "    return non_zeros + [0] * (len(lst) - len(non_zeros))"
   ]
  },
  {
   "cell_type": "code",
   "execution_count": 25,
   "metadata": {},
   "outputs": [],
   "source": [
    "def printMat(lst, rows, cols):\n",
    "    if len(lst) != rows * cols:\n",
    "        raise DimensionMismatchException(\"dimensions should match matrix size.\")\n",
    "    for i in range(0, len(lst), cols):\n",
    "        print(\" \".join(map(str, lst[i:i+cols])))"
   ]
  },
  {
   "cell_type": "code",
   "execution_count": 26,
   "metadata": {},
   "outputs": [],
   "source": [
    "def matMul(mat1, mat2, n):\n",
    "    if len(mat1) != len(mat2):\n",
    "        raise DimensionMismatchException(\"Both matreices should have same dimension\")\n",
    "    result = []\n",
    "    for i in range(n):\n",
    "        for k in range(n):\n",
    "            result.append(sum(mat1[i*n+j] * mat2[j*n+k] for j in range(n)))\n",
    "    return result\n"
   ]
  },
  {
   "cell_type": "code",
   "execution_count": 27,
   "metadata": {},
   "outputs": [],
   "source": [
    "def splitsum(lst):\n",
    "    positive_sum = sum(x**2 for x in lst if x > 0)\n",
    "    negative_sum = sum(x**3 for x in lst if x < 0)\n",
    "    return [positive_sum, negative_sum]\n"
   ]
  },
  {
   "cell_type": "code",
   "execution_count": 1,
   "metadata": {},
   "outputs": [],
   "source": [
    "import heapq\n",
    "\n",
    "def kMax(lst, k):\n",
    "    if k < 1 or k > len(lst):\n",
    "        raise InvalidKException(\"Invalid value for k.\")\n",
    "    return heapq.nlargest(k, lst)[-1]"
   ]
  },
  {
   "cell_type": "code",
   "execution_count": 2,
   "metadata": {},
   "outputs": [],
   "source": [
    "class Score:\n",
    "    def __init__(self, subject, marks):\n",
    "        self.subject = subject\n",
    "        self.marks = marks\n",
    "\n",
    "class Student:\n",
    "    def __init__(self, name):\n",
    "        self.name = name\n",
    "        self.scores = []\n",
    "\n",
    "    def add_score(self, subject, marks):\n",
    "        self.scores.append(Score(subject, marks))\n",
    "\n",
    "    def average(self):\n",
    "        return round(sum(score.marks for score in self.scores) / len(self.scores), 2) if self.scores else 0\n",
    "\n",
    "    def __str__(self):\n",
    "        return f\"{self.name}: {', '.join(f'{score.subject}-{score.marks}' for score in self.scores)}\"\n",
    "\n",
    "def classAverage(students, subject):\n",
    "    subject_scores = [score.marks for student in students for score in student.scores if score.subject == subject]\n",
    "    return round(sum(subject_scores) / len(subject_scores), 2) if subject_scores else 0\n"
   ]
  },
  {
   "cell_type": "code",
   "execution_count": 4,
   "metadata": {},
   "outputs": [
    {
     "name": "stdout",
     "output_type": "stream",
     "text": [
      "The two vectors: 3-dimensional vector: [7, 8, 9] 3-dimensional vector: [10, 11, 12]\n",
      "Dot product: 266\n",
      "Subtraction: 3-dimensional vector: [3, 3, 3]\n",
      "Addition: 3-dimensional vector: [17, 19, 21]\n",
      "Scalar post-mul.: 3-dimensional vector: [14, 16, 18]\n",
      "Scalar pre-mul: 3-dimensional vector: [21, 24, 27]\n"
     ]
    }
   ],
   "source": [
    "class InvalidVectorOperation(Exception):\n",
    "    pass\n",
    "\n",
    "class Vector:\n",
    "    def __init__(self, values):\n",
    "        if not isinstance(values, list) or not all(isinstance(v, (int, float)) for v in values):\n",
    "            raise InvalidVectorOperation(\"Vector must be a list of numbers.\")\n",
    "        self.__values = values\n",
    "\n",
    "    def __str__(self):\n",
    "        return f\"{len(self.__values)}-dimensional vector: {self.__values}\"\n",
    "\n",
    "    def __mul__(self, scalar):\n",
    "        if isinstance(scalar, (int, float)):\n",
    "            return Vector([scalar * v for v in self.__values])\n",
    "        raise InvalidVectorOperation(\"Multiplication only allowed with a scalar.\")\n",
    "\n",
    "    def __rmul__(self, scalar):\n",
    "        return self * scalar\n",
    "\n",
    "    def __add__(self, other):\n",
    "        if isinstance(other, Vector) and len(self.__values) == len(other.__values):\n",
    "            return Vector([self.__values[i] + other.__values[i] for i in range(len(self.__values))])\n",
    "        raise InvalidVectorOperation(\"Addition requires vectors of the same dimension.\")\n",
    "\n",
    "    def __sub__(self, other):\n",
    "        if isinstance(other, Vector) and len(self.__values) == len(other.__values):\n",
    "            return Vector([self.__values[i] - other.__values[i] for i in range(len(self.__values))])\n",
    "        raise InvalidVectorOperation(\"Subtraction requires vectors of the same dimension.\")\n",
    "\n",
    "    def __matmul__(self, other):\n",
    "        if isinstance(other, Vector) and len(self.__values) == len(other.__values):\n",
    "            return sum(self.__values[i] * other.__values[i] for i in range(len(self.__values)))\n",
    "        raise InvalidVectorOperation(\"Dot product requires vectors of the same dimension.\")\n",
    "\n",
    "v1 = Vector([7, 8, 9])\n",
    "v2 = Vector([10, 11, 12])\n",
    "\n",
    "print(\"The two vectors:\", v1, v2)\n",
    "print(\"Dot product:\", v1 @ v2)\n",
    "print(\"Subtraction:\", v2 - v1)\n",
    "print(\"Addition:\", v1 + v2)\n",
    "print(\"Scalar post-mul.:\", v1 * 2)\n",
    "print(\"Scalar pre-mul:\", 3 * v1)"
   ]
  },
  {
   "cell_type": "code",
   "execution_count": null,
   "metadata": {},
   "outputs": [],
   "source": []
  }
 ],
 "metadata": {
  "kernelspec": {
   "display_name": "Python 3",
   "language": "python",
   "name": "python3"
  },
  "language_info": {
   "codemirror_mode": {
    "name": "ipython",
    "version": 3
   },
   "file_extension": ".py",
   "mimetype": "text/x-python",
   "name": "python",
   "nbconvert_exporter": "python",
   "pygments_lexer": "ipython3",
   "version": "3.12.9"
  }
 },
 "nbformat": 4,
 "nbformat_minor": 2
}
